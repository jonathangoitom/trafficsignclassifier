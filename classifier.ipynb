{
 "cells": [
  {
   "cell_type": "code",
   "execution_count": 1,
   "id": "b6f55f06",
   "metadata": {},
   "outputs": [],
   "source": [
    "import os\n",
    "import numpy as np \n",
    "import pandas as pd\n",
    "import matplotlib.pyplot as plt \n",
    "import pickle\n",
    "import cv2\n",
    "import tensorflow as tf\n",
    "os.chdir('C:/Users/jonat/Documents/ML/trafficsignclassifier')\n",
    "from tensorflow.keras.optimizers import Adam\n",
    "from keras.models import Sequential, load_model\n",
    "from keras.layers import Conv2D, MaxPool2D, Dense, Flatten, Dropout\n",
    "\n"
   ]
  },
  {
   "cell_type": "markdown",
   "id": "6c746706",
   "metadata": {},
   "source": [
    "### Load data & Labels"
   ]
  },
  {
   "cell_type": "code",
   "execution_count": 2,
   "id": "d0a7ac26",
   "metadata": {},
   "outputs": [],
   "source": [
    "baseDir=os.getcwd()\n",
    "dataDir=os.path.join(baseDir, 'data')\n",
    "training_file=os.path.join(dataDir,'train.p')\n",
    "testing_file=os.path.join(dataDir,'test.p')"
   ]
  },
  {
   "cell_type": "code",
   "execution_count": 3,
   "id": "4c44c9fb",
   "metadata": {},
   "outputs": [],
   "source": [
    "with open(training_file,'rb') as f:\n",
    "    train = pickle.load(f)\n",
    "    \n",
    "with open(testing_file,'rb') as f:\n",
    "    test = pickle.load(f)"
   ]
  },
  {
   "cell_type": "code",
   "execution_count": 4,
   "id": "3a0d57ad",
   "metadata": {},
   "outputs": [
    {
     "data": {
      "text/plain": [
       "dict_keys(['sizes', 'coords', 'features', 'labels'])"
      ]
     },
     "execution_count": 4,
     "metadata": {},
     "output_type": "execute_result"
    }
   ],
   "source": [
    "train.keys()"
   ]
  },
  {
   "cell_type": "code",
   "execution_count": 5,
   "id": "5137aa2f",
   "metadata": {},
   "outputs": [
    {
     "data": {
      "text/plain": [
       "dict_keys(['sizes', 'coords', 'features', 'labels'])"
      ]
     },
     "execution_count": 5,
     "metadata": {},
     "output_type": "execute_result"
    }
   ],
   "source": [
    "test.keys()"
   ]
  },
  {
   "cell_type": "code",
   "execution_count": 6,
   "id": "85cc044d",
   "metadata": {},
   "outputs": [
    {
     "data": {
      "text/plain": [
       "array([ 0,  0,  0, ..., 42, 42, 42], dtype=uint8)"
      ]
     },
     "execution_count": 6,
     "metadata": {},
     "output_type": "execute_result"
    }
   ],
   "source": [
    "train['labels']"
   ]
  },
  {
   "cell_type": "code",
   "execution_count": 7,
   "id": "68aa4ecb",
   "metadata": {},
   "outputs": [],
   "source": [
    "X_train,y_train=train['features'],train['labels']\n",
    "X_test,y_test=test['features'],test['labels']"
   ]
  },
  {
   "cell_type": "code",
   "execution_count": 8,
   "id": "ade53b56",
   "metadata": {},
   "outputs": [
    {
     "data": {
      "text/plain": [
       "(32, 32, 3)"
      ]
     },
     "execution_count": 8,
     "metadata": {},
     "output_type": "execute_result"
    }
   ],
   "source": [
    "X_train[0].shape"
   ]
  },
  {
   "cell_type": "code",
   "execution_count": 9,
   "id": "e3f10d89",
   "metadata": {},
   "outputs": [
    {
     "name": "stdout",
     "output_type": "stream",
     "text": [
      "Image Shape:    (32, 32, 3)\n",
      "Training Set:   39209 samples\n",
      "Test Set:       12630 samples\n",
      "Number of unique classes: 43\n"
     ]
    }
   ],
   "source": [
    "print('Image Shape:    {}'.format(X_train[0].shape))\n",
    "print('Training Set:   {} samples'.format(len(X_train)))\n",
    "print('Test Set:       {} samples'.format(len(X_test)))\n",
    "##print('Labels in Set:  {}'.format(np.unique(y_train)))\n",
    "print('Number of unique classes: {}'.format(len(np.unique(y_train))))"
   ]
  },
  {
   "cell_type": "code",
   "execution_count": 10,
   "id": "51d7f2da",
   "metadata": {},
   "outputs": [],
   "source": [
    "signnames=pd.read_csv('signnames.csv')"
   ]
  },
  {
   "cell_type": "code",
   "execution_count": 11,
   "id": "9c9e50e2",
   "metadata": {},
   "outputs": [],
   "source": [
    "from sklearn.utils import shuffle\n",
    "X_train, y_train=shuffle(X_train, y_train)"
   ]
  },
  {
   "cell_type": "code",
   "execution_count": 12,
   "id": "ec04a45f",
   "metadata": {},
   "outputs": [],
   "source": [
    "from sklearn.model_selection import train_test_split\n",
    "test_features, valid_features, test_labels, valid_labels= train_test_split(X_test,y_test, test_size=0.60, random_state=42)"
   ]
  },
  {
   "cell_type": "code",
   "execution_count": 13,
   "id": "b2dd4677",
   "metadata": {},
   "outputs": [
    {
     "name": "stdout",
     "output_type": "stream",
     "text": [
      "Number of validation examples = 7578\n",
      "Number of testing examples = 5052\n"
     ]
    }
   ],
   "source": [
    "print('Number of validation examples = {}'.format(len(valid_labels)))\n",
    "print('Number of testing examples = {}'.format(len(test_labels)))"
   ]
  },
  {
   "cell_type": "code",
   "execution_count": 14,
   "id": "a8bd37e7",
   "metadata": {},
   "outputs": [
    {
     "name": "stdout",
     "output_type": "stream",
     "text": [
      "X_train.shape: (39209, 32, 32, 3)\n",
      "valid_features.shape: (7578, 32, 32, 3)\n",
      "y_train.shape: (39209,)\n",
      "valid_labels.shape: (7578,)\n"
     ]
    }
   ],
   "source": [
    "print(\"X_train.shape: {}\".format(X_train.shape))\n",
    "print(\"valid_features.shape: {}\".format(valid_features.shape))\n",
    "print(\"y_train.shape: {}\".format(y_train.shape))\n",
    "print(\"valid_labels.shape: {}\".format(valid_labels.shape))"
   ]
  },
  {
   "cell_type": "markdown",
   "id": "c27045c9",
   "metadata": {},
   "source": [
    "### One hot encoding the labels"
   ]
  },
  {
   "cell_type": "code",
   "execution_count": 15,
   "id": "c6608aaa",
   "metadata": {},
   "outputs": [],
   "source": [
    "from keras.utils import to_categorical\n",
    "y_train = to_categorical(y_train, 43)\n",
    "valid_labels = to_categorical(valid_labels, 43)"
   ]
  },
  {
   "cell_type": "code",
   "execution_count": 16,
   "id": "96bf7132",
   "metadata": {},
   "outputs": [
    {
     "name": "stdout",
     "output_type": "stream",
     "text": [
      "(39209, 43)\n",
      "(7578, 43)\n"
     ]
    }
   ],
   "source": [
    "print(y_train.shape)\n",
    "print(valid_labels.shape)"
   ]
  },
  {
   "cell_type": "markdown",
   "id": "55ddaff3",
   "metadata": {},
   "source": [
    "### Training the model"
   ]
  },
  {
   "cell_type": "code",
   "execution_count": 17,
   "id": "ee52e1ea",
   "metadata": {},
   "outputs": [],
   "source": [
    "model = Sequential()\n",
    "model.add(Conv2D(filters=32, kernel_size=(5,5), activation='relu', input_shape=X_train.shape[1:]))\n",
    "model.add(Conv2D(filters=32, kernel_size=(5,5), activation='relu'))\n",
    "model.add(MaxPool2D(pool_size=(2, 2)))\n",
    "model.add(Dropout(rate=0.25))\n",
    "\n",
    "model.add(Conv2D(filters=64, kernel_size=(3, 3), activation='relu'))\n",
    "model.add(Conv2D(filters=64, kernel_size=(3, 3), activation='relu'))\n",
    "model.add(MaxPool2D(pool_size=(2, 2)))\n",
    "model.add(Dropout(rate=0.25))\n",
    "\n",
    "model.add(Flatten())\n",
    "model.add(Dense(256, activation='relu'))\n",
    "model.add(Dropout(rate=0.5))\n",
    "# We have 43 classes that's why we have defined 43 in the dense\n",
    "model.add(Dense(43, activation='softmax'))"
   ]
  },
  {
   "cell_type": "code",
   "execution_count": 18,
   "id": "3dd45f78",
   "metadata": {},
   "outputs": [],
   "source": [
    "model.compile(loss='categorical_crossentropy', optimizer='adam', metrics=['accuracy'])"
   ]
  },
  {
   "cell_type": "code",
   "execution_count": 19,
   "id": "53824560",
   "metadata": {},
   "outputs": [
    {
     "name": "stdout",
     "output_type": "stream",
     "text": [
      "Epoch 1/20\n",
      "1226/1226 [==============================] - 91s 73ms/step - loss: 1.7987 - accuracy: 0.5398 - val_loss: 0.6119 - val_accuracy: 0.8349\n",
      "Epoch 2/20\n",
      "1226/1226 [==============================] - 95s 77ms/step - loss: 0.7031 - accuracy: 0.7871 - val_loss: 0.3882 - val_accuracy: 0.8948\n",
      "Epoch 3/20\n",
      "1226/1226 [==============================] - 94s 77ms/step - loss: 0.5447 - accuracy: 0.8345 - val_loss: 0.3467 - val_accuracy: 0.8994\n",
      "Epoch 4/20\n",
      "1226/1226 [==============================] - 100s 81ms/step - loss: 0.4790 - accuracy: 0.8526 - val_loss: 0.3233 - val_accuracy: 0.9140\n",
      "Epoch 5/20\n",
      "1226/1226 [==============================] - 105s 85ms/step - loss: 0.4187 - accuracy: 0.8706 - val_loss: 0.3139 - val_accuracy: 0.9237\n",
      "Epoch 6/20\n",
      "1226/1226 [==============================] - 101s 83ms/step - loss: 0.3833 - accuracy: 0.8846 - val_loss: 0.2772 - val_accuracy: 0.9277\n",
      "Epoch 7/20\n",
      "1226/1226 [==============================] - 101s 82ms/step - loss: 0.3642 - accuracy: 0.8888 - val_loss: 0.2628 - val_accuracy: 0.9351\n",
      "Epoch 8/20\n",
      "1226/1226 [==============================] - 107s 87ms/step - loss: 0.3434 - accuracy: 0.8936 - val_loss: 0.2934 - val_accuracy: 0.9285\n",
      "Epoch 9/20\n",
      "1226/1226 [==============================] - 106s 87ms/step - loss: 0.3359 - accuracy: 0.8987 - val_loss: 0.2770 - val_accuracy: 0.9377\n",
      "Epoch 10/20\n",
      "1226/1226 [==============================] - 116s 95ms/step - loss: 0.3152 - accuracy: 0.9034 - val_loss: 0.2989 - val_accuracy: 0.9239\n",
      "Epoch 11/20\n",
      "1226/1226 [==============================] - 119s 97ms/step - loss: 0.3080 - accuracy: 0.9052 - val_loss: 0.2815 - val_accuracy: 0.9331\n",
      "Epoch 12/20\n",
      "1226/1226 [==============================] - 123s 101ms/step - loss: 0.3062 - accuracy: 0.9067 - val_loss: 0.3103 - val_accuracy: 0.9322\n",
      "Epoch 13/20\n",
      "1226/1226 [==============================] - 114s 93ms/step - loss: 0.3002 - accuracy: 0.9084 - val_loss: 0.3101 - val_accuracy: 0.9173\n",
      "Epoch 14/20\n",
      "1226/1226 [==============================] - 109s 89ms/step - loss: 0.2972 - accuracy: 0.9098 - val_loss: 0.2730 - val_accuracy: 0.9331\n",
      "Epoch 15/20\n",
      "1226/1226 [==============================] - 122s 99ms/step - loss: 0.2926 - accuracy: 0.9110 - val_loss: 0.2549 - val_accuracy: 0.9440\n",
      "Epoch 16/20\n",
      "1226/1226 [==============================] - 104s 84ms/step - loss: 0.2851 - accuracy: 0.9132 - val_loss: 0.2466 - val_accuracy: 0.9378\n",
      "Epoch 17/20\n",
      "1226/1226 [==============================] - 101s 82ms/step - loss: 0.2756 - accuracy: 0.9152 - val_loss: 0.2973 - val_accuracy: 0.9279\n",
      "Epoch 18/20\n",
      "1226/1226 [==============================] - 103s 84ms/step - loss: 0.2735 - accuracy: 0.9179 - val_loss: 0.2432 - val_accuracy: 0.9396\n",
      "Epoch 19/20\n",
      "1226/1226 [==============================] - 94s 77ms/step - loss: 0.2624 - accuracy: 0.9180 - val_loss: 0.2874 - val_accuracy: 0.9299\n",
      "Epoch 20/20\n",
      "1226/1226 [==============================] - 106s 87ms/step - loss: 0.2621 - accuracy: 0.9207 - val_loss: 0.3208 - val_accuracy: 0.9261\n"
     ]
    }
   ],
   "source": [
    "epochs = 20\n",
    "history = model.fit(X_train, y_train, batch_size=32, epochs=epochs, validation_data=(valid_features, valid_labels))"
   ]
  },
  {
   "cell_type": "markdown",
   "id": "d96fcb13",
   "metadata": {},
   "source": [
    "### Loss Curve"
   ]
  },
  {
   "cell_type": "code",
   "execution_count": 20,
   "id": "75f308f7",
   "metadata": {},
   "outputs": [
    {
     "data": {
      "image/png": "[encoded data removed]",
      "text/plain": [
       "<Figure size 432x288 with 1 Axes>"
      ]
     },
     "metadata": {
      "needs_background": "light"
     },
     "output_type": "display_data"
    }
   ],
   "source": [
    "plt.plot(history.history['loss'], label='training loss')\n",
    "plt.plot(history.history['val_loss'], label='val loss')\n",
    "plt.title('Loss')\n",
    "plt.xlabel('epochs')\n",
    "plt.ylabel('loss')\n",
    "plt.legend()\n",
    "plt.show()"
   ]
  },
  {
   "cell_type": "markdown",
   "id": "8833deb5",
   "metadata": {},
   "source": [
    "### Accuracy Curve"
   ]
  },
  {
   "cell_type": "code",
   "execution_count": 21,
   "id": "eb9d7f31",
   "metadata": {},
   "outputs": [
    {
     "data": {
      "image/png": "[encoded data removed]",
      "text/plain": [
       "<Figure size 432x288 with 1 Axes>"
      ]
     },
     "metadata": {
      "needs_background": "light"
     },
     "output_type": "display_data"
    }
   ],
   "source": [
    "plt.figure(0)\n",
    "plt.plot(history.history['accuracy'], label='training accuracy')\n",
    "plt.plot(history.history['val_accuracy'], label='val accuracy')\n",
    "plt.title('Accuracy')\n",
    "plt.xlabel('epochs')\n",
    "plt.ylabel('accuracy')\n",
    "plt.legend()\n",
    "plt.show()"
   ]
  },
  {
   "cell_type": "markdown",
   "id": "4425426e",
   "metadata": {},
   "source": [
    "### Accuracy with the test data"
   ]
  },
  {
   "cell_type": "code",
   "execution_count": 22,
   "id": "c8038192",
   "metadata": {},
   "outputs": [
    {
     "name": "stdout",
     "output_type": "stream",
     "text": [
      "395/395 [==============================] - 6s 13ms/step\n"
     ]
    },
    {
     "data": {
      "text/plain": [
       "array([16,  1, 38, ...,  8,  7, 10], dtype=int64)"
      ]
     },
     "execution_count": 22,
     "metadata": {},
     "output_type": "execute_result"
    }
   ],
   "source": [
    "y_pred = np.argmax(model.predict(X_test),axis=1)\n",
    "y_pred"
   ]
  },
  {
   "cell_type": "code",
   "execution_count": 23,
   "id": "cd563fdc",
   "metadata": {},
   "outputs": [
    {
     "name": "stdout",
     "output_type": "stream",
     "text": [
      "0.9249406175771971\n"
     ]
    }
   ],
   "source": [
    "from sklearn.metrics import accuracy_score\n",
    "print(accuracy_score(y_test,y_pred))"
   ]
  },
  {
   "cell_type": "markdown",
   "id": "aaed2c03",
   "metadata": {},
   "source": [
    "### Save and load the model"
   ]
  },
  {
   "cell_type": "code",
   "execution_count": 24,
   "id": "88f08e5a",
   "metadata": {},
   "outputs": [],
   "source": [
    "model.save(\"./training/TSR.h5\")"
   ]
  },
  {
   "cell_type": "code",
   "execution_count": 30,
   "id": "9a49c8a6",
   "metadata": {},
   "outputs": [],
   "source": [
    "from keras.models import load_model\n",
    "model = load_model('./training/TSR.h5')"
   ]
  },
  {
   "cell_type": "code",
   "execution_count": 31,
   "id": "7960b01c",
   "metadata": {},
   "outputs": [],
   "source": [
    "classes = { 0:'Speed limit (20km/h)',\n",
    "            1:'Speed limit (30km/h)', \n",
    "            2:'Speed limit (50km/h)', \n",
    "            3:'Speed limit (60km/h)', \n",
    "            4:'Speed limit (70km/h)', \n",
    "            5:'Speed limit (80km/h)', \n",
    "            6:'End of speed limit (80km/h)', \n",
    "            7:'Speed limit (100km/h)', \n",
    "            8:'Speed limit (120km/h)', \n",
    "            9:'No passing', \n",
    "            10:'No passing veh over 3.5 tons', \n",
    "            11:'Right-of-way at intersection', \n",
    "            12:'Priority road', \n",
    "            13:'Yield', \n",
    "            14:'Stop', \n",
    "            15:'No vehicles', \n",
    "            16:'Veh > 3.5 tons prohibited', \n",
    "            17:'No entry', \n",
    "            18:'General caution', \n",
    "            19:'Dangerous curve left', \n",
    "            20:'Dangerous curve right', \n",
    "            21:'Double curve', \n",
    "            22:'Bumpy road', \n",
    "            23:'Slippery road', \n",
    "            24:'Road narrows on the right', \n",
    "            25:'Road work', \n",
    "            26:'Traffic signals', \n",
    "            27:'Pedestrians', \n",
    "            28:'Children crossing', \n",
    "            29:'Bicycles crossing', \n",
    "            30:'Beware of ice/snow',\n",
    "            31:'Wild animals crossing', \n",
    "            32:'End speed + passing limits', \n",
    "            33:'Turn right ahead', \n",
    "            34:'Turn left ahead', \n",
    "            35:'Ahead only', \n",
    "            36:'Go straight or right', \n",
    "            37:'Go straight or left', \n",
    "            38:'Keep right', \n",
    "            39:'Keep left', \n",
    "            40:'Roundabout mandatory', \n",
    "            41:'End of no passing', \n",
    "            42:'End no passing veh > 3.5 tons' }"
   ]
  }
 ],
 "metadata": {
  "kernelspec": {
   "display_name": "Python 3 (ipykernel)",
   "language": "python",
   "name": "python3"
  },
  "language_info": {
   "codemirror_mode": {
    "name": "ipython",
    "version": 3
   },
   "file_extension": ".py",
   "mimetype": "text/x-python",
   "name": "python",
   "nbconvert_exporter": "python",
   "pygments_lexer": "ipython3",
   "version": "3.9.12"
  }
 },
 "nbformat": 4,
 "nbformat_minor": 5
}
