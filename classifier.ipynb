{
 "cells": [
  {
   "cell_type": "code",
   "execution_count": 1,
   "id": "b6f55f06",
   "metadata": {},
   "outputs": [],
   "source": [
    "import os\n",
    "import numpy as np \n",
    "import pandas as pd\n",
    "import matplotlib.pyplot as plt \n",
    "import pickle\n",
    "import cv2\n",
    "import tensorflow as tf\n",
    "from tensorflow.keras.optimizers import Adam\n",
    "from keras.models import Sequential, load_model\n",
    "from keras.layers import Conv2D, MaxPool2D, Dense, Flatten, Dropout\n",
    "\n"
   ]
  },
  {
   "cell_type": "code",
   "execution_count": 2,
   "id": "d0a7ac26",
   "metadata": {},
   "outputs": [],
   "source": [
    "baseDir=os.getcwd()\n",
    "dataDir=os.path.join(baseDir, 'data')\n",
    "training_file=os.path.join(dataDir,'train.p')\n",
    "testing_file=os.path.join(dataDir,'test.p')"
   ]
  },
  {
   "cell_type": "code",
   "execution_count": 3,
   "id": "4c44c9fb",
   "metadata": {},
   "outputs": [],
   "source": [
    "with open(training_file,'rb') as f:\n",
    "    train = pickle.load(f)\n",
    "    \n",
    "with open(testing_file,'rb') as f:\n",
    "    test = pickle.load(f)"
   ]
  },
  {
   "cell_type": "code",
   "execution_count": 4,
   "id": "3a0d57ad",
   "metadata": {},
   "outputs": [
    {
     "data": {
      "text/plain": [
       "dict_keys(['sizes', 'coords', 'features', 'labels'])"
      ]
     },
     "execution_count": 4,
     "metadata": {},
     "output_type": "execute_result"
    }
   ],
   "source": [
    "train.keys()"
   ]
  },
  {
   "cell_type": "code",
   "execution_count": 5,
   "id": "5137aa2f",
   "metadata": {},
   "outputs": [
    {
     "data": {
      "text/plain": [
       "dict_keys(['sizes', 'coords', 'features', 'labels'])"
      ]
     },
     "execution_count": 5,
     "metadata": {},
     "output_type": "execute_result"
    }
   ],
   "source": [
    "test.keys()"
   ]
  },
  {
   "cell_type": "code",
   "execution_count": 6,
   "id": "85cc044d",
   "metadata": {},
   "outputs": [
    {
     "data": {
      "text/plain": [
       "array([ 0,  0,  0, ..., 42, 42, 42], dtype=uint8)"
      ]
     },
     "execution_count": 6,
     "metadata": {},
     "output_type": "execute_result"
    }
   ],
   "source": [
    "train['labels']"
   ]
  },
  {
   "cell_type": "code",
   "execution_count": 7,
   "id": "68aa4ecb",
   "metadata": {},
   "outputs": [],
   "source": [
    "X_train,y_train=train['features'],train['labels']\n",
    "X_test,y_test=test['features'],test['labels']"
   ]
  },
  {
   "cell_type": "code",
   "execution_count": 8,
   "id": "ade53b56",
   "metadata": {},
   "outputs": [
    {
     "data": {
      "text/plain": [
       "(32, 32, 3)"
      ]
     },
     "execution_count": 8,
     "metadata": {},
     "output_type": "execute_result"
    }
   ],
   "source": [
    "X_train[0].shape"
   ]
  },
  {
   "cell_type": "code",
   "execution_count": 9,
   "id": "e3f10d89",
   "metadata": {},
   "outputs": [
    {
     "name": "stdout",
     "output_type": "stream",
     "text": [
      "Image Shape:    (32, 32, 3)\n",
      "Training Set:   39209 samples\n",
      "Test Set:       12630 samples\n",
      "Number of unique classes: 43\n"
     ]
    }
   ],
   "source": [
    "print('Image Shape:    {}'.format(X_train[0].shape))\n",
    "print('Training Set:   {} samples'.format(len(X_train)))\n",
    "print('Test Set:       {} samples'.format(len(X_test)))\n",
    "##print('Labels in Set:  {}'.format(np.unique(y_train)))\n",
    "print('Number of unique classes: {}'.format(len(np.unique(y_train))))"
   ]
  },
  {
   "cell_type": "code",
   "execution_count": 10,
   "id": "51d7f2da",
   "metadata": {},
   "outputs": [],
   "source": [
    "signnames=pd.read_csv('signnames.csv')"
   ]
  },
  {
   "cell_type": "code",
   "execution_count": 11,
   "id": "9c9e50e2",
   "metadata": {},
   "outputs": [],
   "source": [
    "from sklearn.utils import shuffle\n",
    "X_train, y_train=shuffle(X_train, y_train)"
   ]
  },
  {
   "cell_type": "code",
   "execution_count": 12,
   "id": "ec04a45f",
   "metadata": {},
   "outputs": [],
   "source": [
    "from sklearn.model_selection import train_test_split\n",
    "test_features, valid_features, test_labels, valid_labels= train_test_split(X_test,y_test, test_size=0.60, random_state=42)"
   ]
  },
  {
   "cell_type": "code",
   "execution_count": 13,
   "id": "b2dd4677",
   "metadata": {},
   "outputs": [
    {
     "name": "stdout",
     "output_type": "stream",
     "text": [
      "Number of validation examples = 7578\n",
      "Number of testing examples = 5052\n"
     ]
    }
   ],
   "source": [
    "print('Number of validation examples = {}'.format(len(valid_labels)))\n",
    "print('Number of testing examples = {}'.format(len(test_labels)))"
   ]
  },
  {
   "cell_type": "code",
   "execution_count": 14,
   "id": "a8bd37e7",
   "metadata": {},
   "outputs": [
    {
     "name": "stdout",
     "output_type": "stream",
     "text": [
      "X_train.shape: (39209, 32, 32, 3)\n",
      "valid_features.shape: (7578, 32, 32, 3)\n",
      "y_train.shape: (39209,)\n",
      "valid_labels.shape: (7578,)\n"
     ]
    }
   ],
   "source": [
    "print(\"X_train.shape: {}\".format(X_train.shape))\n",
    "print(\"valid_features.shape: {}\".format(valid_features.shape))\n",
    "print(\"y_train.shape: {}\".format(y_train.shape))\n",
    "print(\"valid_labels.shape: {}\".format(valid_labels.shape))"
   ]
  },
  {
   "cell_type": "markdown",
   "id": "c27045c9",
   "metadata": {},
   "source": [
    "### One hot encoding the labels"
   ]
  },
  {
   "cell_type": "code",
   "execution_count": 15,
   "id": "c6608aaa",
   "metadata": {},
   "outputs": [],
   "source": [
    "from keras.utils import to_categorical\n",
    "y_train = to_categorical(y_train, 43)\n",
    "valid_labels = to_categorical(valid_labels, 43)"
   ]
  },
  {
   "cell_type": "code",
   "execution_count": 16,
   "id": "96bf7132",
   "metadata": {},
   "outputs": [
    {
     "name": "stdout",
     "output_type": "stream",
     "text": [
      "(39209, 43)\n",
      "(7578, 43)\n"
     ]
    }
   ],
   "source": [
    "print(y_train.shape)\n",
    "print(valid_labels.shape)"
   ]
  },
  {
   "cell_type": "code",
   "execution_count": 17,
   "id": "ee52e1ea",
   "metadata": {},
   "outputs": [],
   "source": [
    "model = Sequential()\n",
    "model.add(Conv2D(filters=32, kernel_size=(5,5), activation='relu', input_shape=X_train.shape[1:]))\n",
    "model.add(Conv2D(filters=32, kernel_size=(5,5), activation='relu'))\n",
    "model.add(MaxPool2D(pool_size=(2, 2)))\n",
    "model.add(Dropout(rate=0.25))\n",
    "\n",
    "model.add(Conv2D(filters=64, kernel_size=(3, 3), activation='relu'))\n",
    "model.add(Conv2D(filters=64, kernel_size=(3, 3), activation='relu'))\n",
    "model.add(MaxPool2D(pool_size=(2, 2)))\n",
    "model.add(Dropout(rate=0.25))\n",
    "\n",
    "model.add(Flatten())\n",
    "model.add(Dense(256, activation='relu'))\n",
    "model.add(Dropout(rate=0.5))\n",
    "# We have 43 classes that's why we have defined 43 in the dense\n",
    "model.add(Dense(43, activation='softmax'))"
   ]
  },
  {
   "cell_type": "code",
   "execution_count": 18,
   "id": "3dd45f78",
   "metadata": {},
   "outputs": [],
   "source": [
    "model.compile(loss='categorical_crossentropy', optimizer='adam', metrics=['accuracy'])"
   ]
  },
  {
   "cell_type": "code",
   "execution_count": 20,
   "id": "53824560",
   "metadata": {},
   "outputs": [
    {
     "name": "stdout",
     "output_type": "stream",
     "text": [
      "Epoch 1/20\n",
      "1226/1226 [==============================] - 69s 55ms/step - loss: 1.6161 - accuracy: 0.5847 - val_loss: 0.5647 - val_accuracy: 0.8333\n",
      "Epoch 2/20\n",
      "1226/1226 [==============================] - 85s 70ms/step - loss: 0.6910 - accuracy: 0.7926 - val_loss: 0.4042 - val_accuracy: 0.8815\n",
      "Epoch 3/20\n",
      "1226/1226 [==============================] - 84s 68ms/step - loss: 0.5423 - accuracy: 0.8351 - val_loss: 0.3736 - val_accuracy: 0.9001\n",
      "Epoch 4/20\n",
      "1226/1226 [==============================] - 84s 69ms/step - loss: 0.4767 - accuracy: 0.8561 - val_loss: 0.3751 - val_accuracy: 0.9017\n",
      "Epoch 5/20\n",
      "1226/1226 [==============================] - 86s 70ms/step - loss: 0.4329 - accuracy: 0.8677 - val_loss: 0.2922 - val_accuracy: 0.9203\n",
      "Epoch 6/20\n",
      "1226/1226 [==============================] - 88s 72ms/step - loss: 0.4001 - accuracy: 0.8786 - val_loss: 0.3336 - val_accuracy: 0.9091\n",
      "Epoch 7/20\n",
      "1226/1226 [==============================] - 88s 71ms/step - loss: 0.3792 - accuracy: 0.8849 - val_loss: 0.3133 - val_accuracy: 0.9132\n",
      "Epoch 8/20\n",
      "1226/1226 [==============================] - 88s 72ms/step - loss: 0.3423 - accuracy: 0.8971 - val_loss: 0.2989 - val_accuracy: 0.9194\n",
      "Epoch 9/20\n",
      "1226/1226 [==============================] - 90s 73ms/step - loss: 0.3455 - accuracy: 0.8950 - val_loss: 0.2998 - val_accuracy: 0.9232\n",
      "Epoch 10/20\n",
      "1226/1226 [==============================] - 89s 73ms/step - loss: 0.3321 - accuracy: 0.9004 - val_loss: 0.3127 - val_accuracy: 0.9188\n",
      "Epoch 11/20\n",
      "1226/1226 [==============================] - 93s 76ms/step - loss: 0.3279 - accuracy: 0.9018 - val_loss: 0.2821 - val_accuracy: 0.9199\n",
      "Epoch 12/20\n",
      "1226/1226 [==============================] - 95s 77ms/step - loss: 0.3293 - accuracy: 0.9004 - val_loss: 0.3129 - val_accuracy: 0.9104\n",
      "Epoch 13/20\n",
      "1226/1226 [==============================] - 101s 82ms/step - loss: 0.3129 - accuracy: 0.9038 - val_loss: 0.2733 - val_accuracy: 0.9270\n",
      "Epoch 14/20\n",
      "1226/1226 [==============================] - 99s 81ms/step - loss: 0.3117 - accuracy: 0.9048 - val_loss: 0.3361 - val_accuracy: 0.9084\n",
      "Epoch 15/20\n",
      "1226/1226 [==============================] - 99s 81ms/step - loss: 0.3004 - accuracy: 0.9077 - val_loss: 0.2704 - val_accuracy: 0.9336\n",
      "Epoch 16/20\n",
      "1226/1226 [==============================] - 101s 82ms/step - loss: 0.3131 - accuracy: 0.9071 - val_loss: 0.2647 - val_accuracy: 0.9289\n",
      "Epoch 17/20\n",
      "1226/1226 [==============================] - 102s 83ms/step - loss: 0.3014 - accuracy: 0.9092 - val_loss: 0.3185 - val_accuracy: 0.9203\n",
      "Epoch 18/20\n",
      "1226/1226 [==============================] - 102s 83ms/step - loss: 0.2887 - accuracy: 0.9128 - val_loss: 0.2992 - val_accuracy: 0.9219\n",
      "Epoch 19/20\n",
      "1226/1226 [==============================] - 103s 84ms/step - loss: 0.3312 - accuracy: 0.9001 - val_loss: 0.2946 - val_accuracy: 0.9232\n",
      "Epoch 20/20\n",
      "1226/1226 [==============================] - 105s 85ms/step - loss: 0.2861 - accuracy: 0.9136 - val_loss: 0.3109 - val_accuracy: 0.9273\n"
     ]
    }
   ],
   "source": [
    "epochs = 20\n",
    "history = model.fit(X_train, y_train, batch_size=32, epochs=epochs, validation_data=(valid_features, valid_labels))"
   ]
  },
  {
   "cell_type": "markdown",
   "id": "d96fcb13",
   "metadata": {},
   "source": [
    "### Loss Curve"
   ]
  },
  {
   "cell_type": "code",
   "execution_count": 23,
   "id": "75f308f7",
   "metadata": {},
   "outputs": [
    {
     "data": {
      "image/png": "[encoded data removed]",
      "text/plain": [
       "<Figure size 432x288 with 1 Axes>"
      ]
     },
     "metadata": {
      "needs_background": "light"
     },
     "output_type": "display_data"
    }
   ],
   "source": [
    "plt.plot(history.history['loss'], label='training loss')\n",
    "plt.plot(history.history['val_loss'], label='val loss')\n",
    "plt.title('Loss')\n",
    "plt.xlabel('epochs')\n",
    "plt.ylabel('loss')\n",
    "plt.legend()\n",
    "plt.show()"
   ]
  },
  {
   "cell_type": "markdown",
   "id": "8833deb5",
   "metadata": {},
   "source": [
    "### Accuracy Curve"
   ]
  },
  {
   "cell_type": "code",
   "execution_count": 38,
   "id": "eb9d7f31",
   "metadata": {},
   "outputs": [
    {
     "data": {
      "image/png": "[encoded data removed]",
      "text/plain": [
       "<Figure size 432x288 with 1 Axes>"
      ]
     },
     "metadata": {
      "needs_background": "light"
     },
     "output_type": "display_data"
    }
   ],
   "source": [
    "plt.figure(0)\n",
    "plt.plot(history.history['accuracy'], label='training accuracy')\n",
    "plt.plot(history.history['val_accuracy'], label='val accuracy')\n",
    "plt.title('Accuracy')\n",
    "plt.xlabel('epochs')\n",
    "plt.ylabel('accuracy')\n",
    "plt.legend()\n",
    "plt.show()"
   ]
  },
  {
   "cell_type": "markdown",
   "id": "4425426e",
   "metadata": {},
   "source": [
    "### Accuracy with the test data"
   ]
  },
  {
   "cell_type": "code",
   "execution_count": 39,
   "id": "c8038192",
   "metadata": {},
   "outputs": [
    {
     "name": "stdout",
     "output_type": "stream",
     "text": [
      "395/395 [==============================] - 6s 15ms/step\n"
     ]
    },
    {
     "data": {
      "text/plain": [
       "array([16,  1, 38, ...,  3,  7, 10], dtype=int64)"
      ]
     },
     "execution_count": 39,
     "metadata": {},
     "output_type": "execute_result"
    }
   ],
   "source": [
    "y_pred = np.argmax(model.predict(X_test),axis=1)\n",
    "y_pred"
   ]
  },
  {
   "cell_type": "code",
   "execution_count": 40,
   "id": "cd563fdc",
   "metadata": {},
   "outputs": [
    {
     "name": "stdout",
     "output_type": "stream",
     "text": [
      "0.9242280285035629\n"
     ]
    }
   ],
   "source": [
    "from sklearn.metrics import accuracy_score\n",
    "print(accuracy_score(y_test,y_pred))"
   ]
  },
  {
   "cell_type": "code",
   "execution_count": 56,
   "id": "06073159",
   "metadata": {},
   "outputs": [
    {
     "name": "stderr",
     "output_type": "stream",
     "text": [
      "WARNING:absl:Found untraced functions such as _jit_compiled_convolution_op, _jit_compiled_convolution_op, _jit_compiled_convolution_op, _jit_compiled_convolution_op while saving (showing 4 of 4). These functions will not be directly callable after loading.\n"
     ]
    },
    {
     "name": "stdout",
     "output_type": "stream",
     "text": [
      "INFO:tensorflow:Assets written to: classifier\\assets\n"
     ]
    },
    {
     "name": "stderr",
     "output_type": "stream",
     "text": [
      "INFO:tensorflow:Assets written to: classifier\\assets\n"
     ]
    }
   ],
   "source": [
    "import pickle\n",
    "from keras.models import load_model\n",
    "model.save('classifier')"
   ]
  },
  {
   "cell_type": "code",
   "execution_count": 61,
   "id": "f0c32762",
   "metadata": {},
   "outputs": [
    {
     "name": "stderr",
     "output_type": "stream",
     "text": [
      "WARNING:absl:Found untraced functions such as _jit_compiled_convolution_op, _jit_compiled_convolution_op, _jit_compiled_convolution_op, _jit_compiled_convolution_op while saving (showing 4 of 4). These functions will not be directly callable after loading.\n"
     ]
    },
    {
     "name": "stdout",
     "output_type": "stream",
     "text": [
      "INFO:tensorflow:Assets written to: ram://de35cbef-3df4-4419-bbfa-39e1ad2da531/assets\n"
     ]
    },
    {
     "name": "stderr",
     "output_type": "stream",
     "text": [
      "INFO:tensorflow:Assets written to: ram://de35cbef-3df4-4419-bbfa-39e1ad2da531/assets\n"
     ]
    }
   ],
   "source": [
    "with open('classifier.pkl', 'wb') as f:\n",
    "    pickle.dump(model, f)"
   ]
  }
 ],
 "metadata": {
  "kernelspec": {
   "display_name": "Python 3 (ipykernel)",
   "language": "python",
   "name": "python3"
  },
  "language_info": {
   "codemirror_mode": {
    "name": "ipython",
    "version": 3
   },
   "file_extension": ".py",
   "mimetype": "text/x-python",
   "name": "python",
   "nbconvert_exporter": "python",
   "pygments_lexer": "ipython3",
   "version": "3.9.12"
  }
 },
 "nbformat": 4,
 "nbformat_minor": 5
}
