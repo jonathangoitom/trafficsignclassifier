{
 "cells": [
  {
   "cell_type": "code",
   "execution_count": 84,
   "id": "b6f55f06",
   "metadata": {},
   "outputs": [],
   "source": [
    "import os\n",
    "import numpy as np \n",
    "import pandas as pd\n",
    "import matplotlib.pyplot as plt \n",
    "import pickle\n",
    "import cv2\n",
    "import tensorflow as tf\n",
    "from tensorflow.keras.optimizers import Adam\n",
    "from keras.models import Sequential, load_model\n",
    "from keras.layers import Conv2D, MaxPool2D, Dense, Flatten, Dropout\n",
    "\n"
   ]
  },
  {
   "cell_type": "code",
   "execution_count": 66,
   "id": "d0a7ac26",
   "metadata": {},
   "outputs": [],
   "source": [
    "baseDir=os.getcwd()\n",
    "dataDir=os.path.join(baseDir, 'data')\n",
    "training_file=os.path.join(dataDir,'train.p')\n",
    "testing_file=os.path.join(dataDir,'test.p')"
   ]
  },
  {
   "cell_type": "code",
   "execution_count": 67,
   "id": "4c44c9fb",
   "metadata": {},
   "outputs": [],
   "source": [
    "with open(training_file,'rb') as f:\n",
    "    train = pickle.load(f)\n",
    "    \n",
    "with open(testing_file,'rb') as f:\n",
    "    test = pickle.load(f)"
   ]
  },
  {
   "cell_type": "code",
   "execution_count": 68,
   "id": "3a0d57ad",
   "metadata": {},
   "outputs": [
    {
     "data": {
      "text/plain": [
       "dict_keys(['sizes', 'coords', 'features', 'labels'])"
      ]
     },
     "execution_count": 68,
     "metadata": {},
     "output_type": "execute_result"
    }
   ],
   "source": [
    "train.keys()"
   ]
  },
  {
   "cell_type": "code",
   "execution_count": 69,
   "id": "5137aa2f",
   "metadata": {},
   "outputs": [
    {
     "data": {
      "text/plain": [
       "dict_keys(['sizes', 'coords', 'features', 'labels'])"
      ]
     },
     "execution_count": 69,
     "metadata": {},
     "output_type": "execute_result"
    }
   ],
   "source": [
    "test.keys()"
   ]
  },
  {
   "cell_type": "code",
   "execution_count": 70,
   "id": "85cc044d",
   "metadata": {},
   "outputs": [
    {
     "data": {
      "text/plain": [
       "array([ 0,  0,  0, ..., 42, 42, 42], dtype=uint8)"
      ]
     },
     "execution_count": 70,
     "metadata": {},
     "output_type": "execute_result"
    }
   ],
   "source": [
    "train['labels']"
   ]
  },
  {
   "cell_type": "code",
   "execution_count": 71,
   "id": "68aa4ecb",
   "metadata": {},
   "outputs": [],
   "source": [
    "X_train,y_train=train['features'],train['labels']\n",
    "X_test,y_test=test['features'],test['labels']"
   ]
  },
  {
   "cell_type": "code",
   "execution_count": 72,
   "id": "ade53b56",
   "metadata": {},
   "outputs": [
    {
     "data": {
      "text/plain": [
       "(32, 32, 3)"
      ]
     },
     "execution_count": 72,
     "metadata": {},
     "output_type": "execute_result"
    }
   ],
   "source": [
    "X_train[0].shape"
   ]
  },
  {
   "cell_type": "code",
   "execution_count": 73,
   "id": "e3f10d89",
   "metadata": {},
   "outputs": [
    {
     "name": "stdout",
     "output_type": "stream",
     "text": [
      "Image Shape:    (32, 32, 3)\n",
      "Training Set:   39209 samples\n",
      "Test Set:       12630 samples\n",
      "Number of unique classes: 43\n"
     ]
    }
   ],
   "source": [
    "print('Image Shape:    {}'.format(X_train[0].shape))\n",
    "print('Training Set:   {} samples'.format(len(X_train)))\n",
    "print('Test Set:       {} samples'.format(len(X_test)))\n",
    "##print('Labels in Set:  {}'.format(np.unique(y_train)))\n",
    "print('Number of unique classes: {}'.format(len(np.unique(y_train))))"
   ]
  },
  {
   "cell_type": "code",
   "execution_count": 74,
   "id": "51d7f2da",
   "metadata": {},
   "outputs": [],
   "source": [
    "signnames=pd.read_csv('signnames.csv')"
   ]
  },
  {
   "cell_type": "code",
   "execution_count": 75,
   "id": "9c9e50e2",
   "metadata": {},
   "outputs": [],
   "source": [
    "from sklearn.utils import shuffle\n",
    "X_train, y_train=shuffle(X_train, y_train)"
   ]
  },
  {
   "cell_type": "code",
   "execution_count": 76,
   "id": "ec04a45f",
   "metadata": {},
   "outputs": [],
   "source": [
    "from sklearn.model_selection import train_test_split\n",
    "test_features, valid_features, test_labels, valid_labels= train_test_split(X_test,y_test, test_size=0.60, random_state=42)"
   ]
  },
  {
   "cell_type": "code",
   "execution_count": 77,
   "id": "b2dd4677",
   "metadata": {},
   "outputs": [
    {
     "name": "stdout",
     "output_type": "stream",
     "text": [
      "Number of validation examples = 7578\n",
      "Number of testing examples = 5052\n"
     ]
    }
   ],
   "source": [
    "print('Number of validation examples = {}'.format(len(valid_labels)))\n",
    "print('Number of testing examples = {}'.format(len(test_labels)))"
   ]
  },
  {
   "cell_type": "code",
   "execution_count": 78,
   "id": "a8bd37e7",
   "metadata": {},
   "outputs": [
    {
     "name": "stdout",
     "output_type": "stream",
     "text": [
      "X_train.shape: (39209, 32, 32, 3)\n",
      "valid_features.shape: (7578, 32, 32, 3)\n",
      "y_train.shape: (39209,)\n",
      "valid_labels.shape: (7578,)\n"
     ]
    }
   ],
   "source": [
    "print(\"X_train.shape: {}\".format(X_train.shape))\n",
    "print(\"valid_features.shape: {}\".format(valid_features.shape))\n",
    "print(\"y_train.shape: {}\".format(y_train.shape))\n",
    "print(\"valid_labels.shape: {}\".format(valid_labels.shape))"
   ]
  },
  {
   "cell_type": "markdown",
   "id": "c27045c9",
   "metadata": {},
   "source": [
    "### One hot encoding the labels"
   ]
  },
  {
   "cell_type": "code",
   "execution_count": 79,
   "id": "c6608aaa",
   "metadata": {},
   "outputs": [],
   "source": [
    "from keras.utils import to_categorical\n",
    "y_train = to_categorical(y_train, num_classes=43)\n",
    "valid_labels = to_categorical(valid_labels, num_classes=43)"
   ]
  },
  {
   "cell_type": "code",
   "execution_count": 81,
   "id": "96bf7132",
   "metadata": {},
   "outputs": [
    {
     "name": "stdout",
     "output_type": "stream",
     "text": [
      "(39209, 43)\n",
      "(7578, 43)\n"
     ]
    }
   ],
   "source": [
    "print(y_train.shape)\n",
    "print(valid_labels.shape)"
   ]
  },
  {
   "cell_type": "code",
   "execution_count": 85,
   "id": "ecc02974",
   "metadata": {},
   "outputs": [],
   "source": [
    "model = Sequential()\n",
    "model.add(Conv2D(filters=32, kernel_size=(5,5), activation='relu', input_shape=X_train.shape[1:]))\n",
    "model.add(Conv2D(filters=32, kernel_size=(5,5), activation='relu'))\n",
    "model.add(MaxPool2D(pool_size=(2, 2)))\n",
    "model.add(Dropout(rate=0.25))\n",
    "\n",
    "model.add(Conv2D(filters=64, kernel_size=(3, 3), activation='relu'))\n",
    "model.add(Conv2D(filters=64, kernel_size=(3, 3), activation='relu'))\n",
    "model.add(MaxPool2D(pool_size=(2, 2)))\n",
    "model.add(Dropout(rate=0.25))\n",
    "\n",
    "model.add(Flatten())\n",
    "model.add(Dense(256, activation='relu'))\n",
    "model.add(Dropout(rate=0.5))\n",
    "# We have 43 classes that's why we have defined 43 in the dense\n",
    "model.add(Dense(43, activation='softmax'))"
   ]
  },
  {
   "cell_type": "code",
   "execution_count": 93,
   "id": "b92a58d3",
   "metadata": {},
   "outputs": [],
   "source": [
    "model.compile(loss='categorical_crossentropy', optimizer='adam', metrics=['accuracy'])"
   ]
  },
  {
   "cell_type": "code",
   "execution_count": null,
   "id": "ec36e25e",
   "metadata": {},
   "outputs": [],
   "source": [
    "epochs = 20\n",
    "history = model.fit(X_train, y_train, batch_size=32, epochs=epochs, validation_data=(valid_features, valid_labels))"
   ]
  }
 ],
 "metadata": {
  "kernelspec": {
   "display_name": "Python 3 (ipykernel)",
   "language": "python",
   "name": "python3"
  },
  "language_info": {
   "codemirror_mode": {
    "name": "ipython",
    "version": 3
   },
   "file_extension": ".py",
   "mimetype": "text/x-python",
   "name": "python",
   "nbconvert_exporter": "python",
   "pygments_lexer": "ipython3",
   "version": "3.9.12"
  }
 },
 "nbformat": 4,
 "nbformat_minor": 5
}
