{
 "cells": [
  {
   "cell_type": "code",
   "execution_count": 2,
   "id": "b6f55f06",
   "metadata": {},
   "outputs": [],
   "source": [
    "import os\n",
    "import numpy as np \n",
    "import pandas as pd\n",
    "import matplotlib.pyplot as plt \n",
    "import pickle\n",
    "import cv2\n",
    "import tensorflow as tf\n",
    "from tensorflow.keras.optimizers import Adam\n",
    "from keras.models import Sequential, load_model\n",
    "from keras.layers import Conv2D, MaxPool2D, Dense, Flatten, Dropout\n",
    "\n"
   ]
  },
  {
   "cell_type": "code",
   "execution_count": 3,
   "id": "d0a7ac26",
   "metadata": {},
   "outputs": [],
   "source": [
    "baseDir=os.getcwd()\n",
    "dataDir=os.path.join(baseDir, 'data')\n",
    "training_file=os.path.join(dataDir,'train.p')\n",
    "testing_file=os.path.join(dataDir,'test.p')"
   ]
  },
  {
   "cell_type": "code",
   "execution_count": 4,
   "id": "4c44c9fb",
   "metadata": {},
   "outputs": [],
   "source": [
    "with open(training_file,'rb') as f:\n",
    "    train = pickle.load(f)\n",
    "    \n",
    "with open(testing_file,'rb') as f:\n",
    "    test = pickle.load(f)"
   ]
  },
  {
   "cell_type": "code",
   "execution_count": 5,
   "id": "3a0d57ad",
   "metadata": {},
   "outputs": [
    {
     "data": {
      "text/plain": [
       "dict_keys(['sizes', 'coords', 'features', 'labels'])"
      ]
     },
     "execution_count": 5,
     "metadata": {},
     "output_type": "execute_result"
    }
   ],
   "source": [
    "train.keys()"
   ]
  },
  {
   "cell_type": "code",
   "execution_count": 6,
   "id": "5137aa2f",
   "metadata": {},
   "outputs": [
    {
     "data": {
      "text/plain": [
       "dict_keys(['sizes', 'coords', 'features', 'labels'])"
      ]
     },
     "execution_count": 6,
     "metadata": {},
     "output_type": "execute_result"
    }
   ],
   "source": [
    "test.keys()"
   ]
  },
  {
   "cell_type": "code",
   "execution_count": 7,
   "id": "85cc044d",
   "metadata": {},
   "outputs": [
    {
     "data": {
      "text/plain": [
       "array([ 0,  0,  0, ..., 42, 42, 42], dtype=uint8)"
      ]
     },
     "execution_count": 7,
     "metadata": {},
     "output_type": "execute_result"
    }
   ],
   "source": [
    "train['labels']"
   ]
  },
  {
   "cell_type": "code",
   "execution_count": 8,
   "id": "68aa4ecb",
   "metadata": {},
   "outputs": [],
   "source": [
    "X_train,y_train=train['features'],train['labels']\n",
    "X_test,y_test=test['features'],test['labels']"
   ]
  },
  {
   "cell_type": "code",
   "execution_count": 8,
   "id": "ade53b56",
   "metadata": {},
   "outputs": [
    {
     "data": {
      "text/plain": [
       "(32, 32, 3)"
      ]
     },
     "execution_count": 8,
     "metadata": {},
     "output_type": "execute_result"
    }
   ],
   "source": [
    "X_train[0].shape"
   ]
  },
  {
   "cell_type": "code",
   "execution_count": 9,
   "id": "e3f10d89",
   "metadata": {},
   "outputs": [
    {
     "name": "stdout",
     "output_type": "stream",
     "text": [
      "Image Shape:    (32, 32, 3)\n",
      "Training Set:   39209 samples\n",
      "Test Set:       12630 samples\n",
      "Number of unique classes: 43\n"
     ]
    }
   ],
   "source": [
    "print('Image Shape:    {}'.format(X_train[0].shape))\n",
    "print('Training Set:   {} samples'.format(len(X_train)))\n",
    "print('Test Set:       {} samples'.format(len(X_test)))\n",
    "##print('Labels in Set:  {}'.format(np.unique(y_train)))\n",
    "print('Number of unique classes: {}'.format(len(np.unique(y_train))))"
   ]
  },
  {
   "cell_type": "code",
   "execution_count": 10,
   "id": "51d7f2da",
   "metadata": {},
   "outputs": [],
   "source": [
    "signnames=pd.read_csv('signnames.csv')"
   ]
  },
  {
   "cell_type": "code",
   "execution_count": 11,
   "id": "9c9e50e2",
   "metadata": {},
   "outputs": [],
   "source": [
    "from sklearn.utils import shuffle\n",
    "X_train, y_train=shuffle(X_train, y_train)"
   ]
  },
  {
   "cell_type": "code",
   "execution_count": 12,
   "id": "ec04a45f",
   "metadata": {},
   "outputs": [],
   "source": [
    "from sklearn.model_selection import train_test_split\n",
    "test_features, valid_features, test_labels, valid_labels= train_test_split(X_test,y_test, test_size=0.60, random_state=42)"
   ]
  },
  {
   "cell_type": "code",
   "execution_count": 13,
   "id": "b2dd4677",
   "metadata": {},
   "outputs": [
    {
     "name": "stdout",
     "output_type": "stream",
     "text": [
      "Number of validation examples = 7578\n",
      "Number of testing examples = 5052\n"
     ]
    }
   ],
   "source": [
    "print('Number of validation examples = {}'.format(len(valid_labels)))\n",
    "print('Number of testing examples = {}'.format(len(test_labels)))"
   ]
  },
  {
   "cell_type": "code",
   "execution_count": 14,
   "id": "a8bd37e7",
   "metadata": {},
   "outputs": [
    {
     "name": "stdout",
     "output_type": "stream",
     "text": [
      "X_train.shape: (39209, 32, 32, 3)\n",
      "valid_features.shape: (7578, 32, 32, 3)\n",
      "y_train.shape: (39209,)\n",
      "valid_labels.shape: (7578,)\n"
     ]
    }
   ],
   "source": [
    "print(\"X_train.shape: {}\".format(X_train.shape))\n",
    "print(\"valid_features.shape: {}\".format(valid_features.shape))\n",
    "print(\"y_train.shape: {}\".format(y_train.shape))\n",
    "print(\"valid_labels.shape: {}\".format(valid_labels.shape))"
   ]
  },
  {
   "cell_type": "markdown",
   "id": "c27045c9",
   "metadata": {},
   "source": [
    "### One hot encoding the labels"
   ]
  },
  {
   "cell_type": "code",
   "execution_count": 15,
   "id": "c6608aaa",
   "metadata": {},
   "outputs": [],
   "source": [
    "from keras.utils import to_categorical\n",
    "y_train = to_categorical(y_train, 43)\n",
    "valid_labels = to_categorical(valid_labels, 43)"
   ]
  },
  {
   "cell_type": "code",
   "execution_count": 16,
   "id": "96bf7132",
   "metadata": {},
   "outputs": [
    {
     "name": "stdout",
     "output_type": "stream",
     "text": [
      "(39209, 43)\n",
      "(7578, 43)\n"
     ]
    }
   ],
   "source": [
    "print(y_train.shape)\n",
    "print(valid_labels.shape)"
   ]
  },
  {
   "cell_type": "code",
   "execution_count": 17,
   "id": "ee52e1ea",
   "metadata": {},
   "outputs": [],
   "source": [
    "model = Sequential()\n",
    "model.add(Conv2D(filters=32, kernel_size=(5,5), activation='relu', input_shape=X_train.shape[1:]))\n",
    "model.add(Conv2D(filters=32, kernel_size=(5,5), activation='relu'))\n",
    "model.add(MaxPool2D(pool_size=(2, 2)))\n",
    "model.add(Dropout(rate=0.25))\n",
    "\n",
    "model.add(Conv2D(filters=64, kernel_size=(3, 3), activation='relu'))\n",
    "model.add(Conv2D(filters=64, kernel_size=(3, 3), activation='relu'))\n",
    "model.add(MaxPool2D(pool_size=(2, 2)))\n",
    "model.add(Dropout(rate=0.25))\n",
    "\n",
    "model.add(Flatten())\n",
    "model.add(Dense(256, activation='relu'))\n",
    "model.add(Dropout(rate=0.5))\n",
    "# We have 43 classes that's why we have defined 43 in the dense\n",
    "model.add(Dense(43, activation='softmax'))"
   ]
  },
  {
   "cell_type": "code",
   "execution_count": 18,
   "id": "3dd45f78",
   "metadata": {},
   "outputs": [],
   "source": [
    "model.compile(loss='categorical_crossentropy', optimizer='adam', metrics=['accuracy'])"
   ]
  },
  {
   "cell_type": "code",
   "execution_count": 19,
   "id": "53824560",
   "metadata": {},
   "outputs": [
    {
     "name": "stdout",
     "output_type": "stream",
     "text": [
      "Epoch 1/20\n",
      "1226/1226 [==============================] - 73s 59ms/step - loss: 1.6236 - accuracy: 0.5696 - val_loss: 0.6184 - val_accuracy: 0.8290\n",
      "Epoch 2/20\n",
      "1226/1226 [==============================] - 82s 67ms/step - loss: 0.5939 - accuracy: 0.8227 - val_loss: 0.4409 - val_accuracy: 0.8761\n",
      "Epoch 3/20\n",
      "1226/1226 [==============================] - 83s 68ms/step - loss: 0.4582 - accuracy: 0.8638 - val_loss: 0.3016 - val_accuracy: 0.9188\n",
      "Epoch 4/20\n",
      "1226/1226 [==============================] - 83s 68ms/step - loss: 0.3943 - accuracy: 0.8827 - val_loss: 0.3164 - val_accuracy: 0.9173\n",
      "Epoch 5/20\n",
      "1226/1226 [==============================] - 91s 74ms/step - loss: 0.3650 - accuracy: 0.8910 - val_loss: 0.2797 - val_accuracy: 0.9166\n",
      "Epoch 6/20\n",
      "1226/1226 [==============================] - 105s 86ms/step - loss: 0.3387 - accuracy: 0.9002 - val_loss: 0.2539 - val_accuracy: 0.9211\n",
      "Epoch 7/20\n",
      "1226/1226 [==============================] - 108s 88ms/step - loss: 0.3240 - accuracy: 0.9037 - val_loss: 0.2827 - val_accuracy: 0.9192\n",
      "Epoch 8/20\n",
      "1226/1226 [==============================] - 110s 89ms/step - loss: 0.2944 - accuracy: 0.9121 - val_loss: 0.2645 - val_accuracy: 0.9314\n",
      "Epoch 9/20\n",
      "1226/1226 [==============================] - 108s 88ms/step - loss: 0.2898 - accuracy: 0.9170 - val_loss: 0.2465 - val_accuracy: 0.9376\n",
      "Epoch 10/20\n",
      "1226/1226 [==============================] - 108s 88ms/step - loss: 0.2823 - accuracy: 0.9175 - val_loss: 0.2131 - val_accuracy: 0.9437\n",
      "Epoch 11/20\n",
      "1226/1226 [==============================] - 110s 90ms/step - loss: 0.2798 - accuracy: 0.9190 - val_loss: 0.2781 - val_accuracy: 0.9323\n",
      "Epoch 12/20\n",
      "1226/1226 [==============================] - 115s 94ms/step - loss: 0.2839 - accuracy: 0.9199 - val_loss: 0.2359 - val_accuracy: 0.9338\n",
      "Epoch 13/20\n",
      "1226/1226 [==============================] - 114s 93ms/step - loss: 0.2515 - accuracy: 0.9281 - val_loss: 0.2221 - val_accuracy: 0.9417\n",
      "Epoch 14/20\n",
      "1226/1226 [==============================] - 114s 93ms/step - loss: 0.2518 - accuracy: 0.9291 - val_loss: 0.2425 - val_accuracy: 0.9367\n",
      "Epoch 15/20\n",
      "1226/1226 [==============================] - 110s 89ms/step - loss: 0.2541 - accuracy: 0.9271 - val_loss: 0.2599 - val_accuracy: 0.9378\n",
      "Epoch 16/20\n",
      "1226/1226 [==============================] - 106s 87ms/step - loss: 0.2576 - accuracy: 0.9279 - val_loss: 0.3477 - val_accuracy: 0.9068\n",
      "Epoch 17/20\n",
      "1226/1226 [==============================] - 120s 98ms/step - loss: 0.2365 - accuracy: 0.9334 - val_loss: 0.3673 - val_accuracy: 0.9097\n",
      "Epoch 18/20\n",
      "1226/1226 [==============================] - 129s 106ms/step - loss: 0.2314 - accuracy: 0.9335 - val_loss: 0.2784 - val_accuracy: 0.9309\n",
      "Epoch 19/20\n",
      "1226/1226 [==============================] - 118s 96ms/step - loss: 0.2419 - accuracy: 0.9323 - val_loss: 0.3227 - val_accuracy: 0.9241\n",
      "Epoch 20/20\n",
      "1226/1226 [==============================] - 129s 105ms/step - loss: 0.2370 - accuracy: 0.9337 - val_loss: 0.2455 - val_accuracy: 0.9372\n"
     ]
    }
   ],
   "source": [
    "epochs = 20\n",
    "history = model.fit(X_train, y_train, batch_size=32, epochs=epochs, validation_data=(valid_features, valid_labels))"
   ]
  },
  {
   "cell_type": "markdown",
   "id": "d96fcb13",
   "metadata": {},
   "source": [
    "### Accuracy Curve"
   ]
  },
  {
   "cell_type": "code",
   "execution_count": 1,
   "id": "75f308f7",
   "metadata": {},
   "outputs": [
    {
     "ename": "NameError",
     "evalue": "name 'history' is not defined",
     "output_type": "error",
     "traceback": [
      "\u001b[1;31m---------------------------------------------------------------------------\u001b[0m",
      "\u001b[1;31mNameError\u001b[0m                                 Traceback (most recent call last)",
      "Input \u001b[1;32mIn [1]\u001b[0m, in \u001b[0;36m<cell line: 1>\u001b[1;34m()\u001b[0m\n\u001b[1;32m----> 1\u001b[0m loss_train \u001b[38;5;241m=\u001b[39m \u001b[43mhistory\u001b[49m\u001b[38;5;241m.\u001b[39mhistory[\u001b[38;5;124m'\u001b[39m\u001b[38;5;124mtrain_loss\u001b[39m\u001b[38;5;124m'\u001b[39m]\n\u001b[0;32m      2\u001b[0m loss_val \u001b[38;5;241m=\u001b[39m history\u001b[38;5;241m.\u001b[39mhistory[\u001b[38;5;124m'\u001b[39m\u001b[38;5;124mval_loss\u001b[39m\u001b[38;5;124m'\u001b[39m]\n\u001b[0;32m      3\u001b[0m epochs \u001b[38;5;241m=\u001b[39m \u001b[38;5;28mrange\u001b[39m (\u001b[38;5;241m1\u001b[39m, \u001b[38;5;241m25\u001b[39m)\n",
      "\u001b[1;31mNameError\u001b[0m: name 'history' is not defined"
     ]
    }
   ],
   "source": [
    "loss_train = history.history['train_loss']\n",
    "loss_val = history.history['val_loss']\n",
    "epochs = range (1, 25)\n",
    "plt.plot(epochs, loss_train, 'r', label='Training loss')\n",
    "plt.plot(epochs, loss_val, 'b', label = 'validation loss')\n",
    "plt.title('Training and Validation loss')\n",
    "plt.xlabel('Epochs')\n",
    "plt.ylabel('Loss')\n",
    "plt.legend()\n",
    "plt.show()"
   ]
  },
  {
   "cell_type": "code",
   "execution_count": null,
   "id": "4c684d68",
   "metadata": {},
   "outputs": [],
   "source": []
  },
  {
   "cell_type": "code",
   "execution_count": null,
   "id": "eb9d7f31",
   "metadata": {},
   "outputs": [],
   "source": []
  },
  {
   "cell_type": "code",
   "execution_count": null,
   "id": "c8038192",
   "metadata": {},
   "outputs": [],
   "source": []
  },
  {
   "cell_type": "code",
   "execution_count": null,
   "id": "cd563fdc",
   "metadata": {},
   "outputs": [],
   "source": []
  },
  {
   "cell_type": "code",
   "execution_count": null,
   "id": "06073159",
   "metadata": {},
   "outputs": [],
   "source": []
  }
 ],
 "metadata": {
  "kernelspec": {
   "display_name": "Python 3 (ipykernel)",
   "language": "python",
   "name": "python3"
  },
  "language_info": {
   "codemirror_mode": {
    "name": "ipython",
    "version": 3
   },
   "file_extension": ".py",
   "mimetype": "text/x-python",
   "name": "python",
   "nbconvert_exporter": "python",
   "pygments_lexer": "ipython3",
   "version": "3.9.12"
  }
 },
 "nbformat": 4,
 "nbformat_minor": 5
}
